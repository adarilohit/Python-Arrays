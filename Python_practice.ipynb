{
 "cells": [
  {
   "cell_type": "code",
   "execution_count": 1,
   "id": "abd06a69-61ef-48f8-bec2-a57c970ca37a",
   "metadata": {},
   "outputs": [
    {
     "name": "stdout",
     "output_type": "stream",
     "text": [
      "aryan ansha, Age: 22, Section: A2\n"
     ]
    }
   ],
   "source": [
    "#using __init__\n",
    "class Student:\n",
    "    def __init__(self, fname, lname, age, section):\n",
    "        self.firstname = fname\n",
    "        self.lastname = lname\n",
    "        self.age = age\n",
    "        self.section = section\n",
    "\n",
    "    def __str__(self):\n",
    "        return f\"{self.firstname} {self.lastname}, Age: {self.age}, Section: {self.section}\"\n",
    "\n",
    "# Creating new object\n",
    "stu1 = Student(\"aryan\", \"ansha\", 22, \"A2\")\n",
    "print(stu1)\n"
   ]
  },
  {
   "cell_type": "code",
   "execution_count": 3,
   "id": "dcdd2f3d-3d94-4df9-b412-daa63a86e769",
   "metadata": {},
   "outputs": [
    {
     "name": "stdout",
     "output_type": "stream",
     "text": [
      "['good', 'for', 'nothing']\n"
     ]
    }
   ],
   "source": [
    "list = ['good','for','nothing']\n",
    "print(list)"
   ]
  },
  {
   "cell_type": "code",
   "execution_count": 5,
   "id": "1208192b-a64d-40e5-a1b2-5dc3723a1766",
   "metadata": {},
   "outputs": [
    {
     "name": "stdout",
     "output_type": "stream",
     "text": [
      "['good', 'for', 'nothing', 1, 2]\n"
     ]
    }
   ],
   "source": [
    "list.append(1)\n",
    "list.append(2)\n",
    "print(list)"
   ]
  },
  {
   "cell_type": "code",
   "execution_count": 13,
   "id": "9fa17c0a-6ae7-4140-b69a-e63a7479e970",
   "metadata": {},
   "outputs": [
    {
     "name": "stdout",
     "output_type": "stream",
     "text": [
      "['good', 'for', 12, 'nothing', 1, 2, 12, 12]\n"
     ]
    }
   ],
   "source": [
    "#using insert\n",
    "list.insert(2,12)\n",
    "print(list)"
   ]
  },
  {
   "cell_type": "code",
   "execution_count": 17,
   "id": "eb9cc5c2-d137-40b5-864c-4468b917afd6",
   "metadata": {},
   "outputs": [
    {
     "name": "stdout",
     "output_type": "stream",
     "text": [
      "4\n",
      "[1, 2, 3]\n"
     ]
    }
   ],
   "source": [
    "#using pop()\n",
    "a = [1,2,3,4]\n",
    "b = a.pop(3)\n",
    "print(b)\n",
    "print(a)"
   ]
  },
  {
   "cell_type": "code",
   "execution_count": 21,
   "id": "2d0e8817-4d27-4fcf-84d0-980ee9eed718",
   "metadata": {},
   "outputs": [
    {
     "name": "stdout",
     "output_type": "stream",
     "text": [
      "even number\n",
      "odd number\n"
     ]
    }
   ],
   "source": [
    "#If and if-else - statement\n",
    "a = 10\n",
    "b = 15\n",
    "if a % 2 == 0:\n",
    "    print(\"even number\")\n",
    "if b % 2 == 0:\n",
    "    print(\"even number\")\n",
    "else:\n",
    "    print(\"odd number\")"
   ]
  },
  {
   "cell_type": "code",
   "execution_count": 23,
   "id": "0020c0a8-9c10-4c54-b3a9-2acaf46fac32",
   "metadata": {},
   "outputs": [
    {
     "name": "stdin",
     "output_type": "stream",
     "text": [
      "enter any number: 4\n"
     ]
    },
    {
     "name": "stdout",
     "output_type": "stream",
     "text": [
      "even number\n"
     ]
    }
   ],
   "source": [
    "x = int(input(\"enter any number:\"))\n",
    "if x % 2 == 0:\n",
    "    print(\"even number\")\n",
    "else:\n",
    "    print(\"odd number\")"
   ]
  },
  {
   "cell_type": "code",
   "execution_count": 27,
   "id": "020310f6-35f9-47b5-a7a7-90f4485994d4",
   "metadata": {},
   "outputs": [
    {
     "name": "stdout",
     "output_type": "stream",
     "text": [
      "x is 5 or less\n"
     ]
    }
   ],
   "source": [
    "x = 1\n",
    "\n",
    "if x > 5:\n",
    "    pass  # Placeholder for future logic\n",
    "else:\n",
    "    print(\"x is 5 or less\")"
   ]
  },
  {
   "cell_type": "code",
   "execution_count": 29,
   "id": "81872955-f985-4bbe-ad4a-6884e46b968d",
   "metadata": {},
   "outputs": [
    {
     "name": "stdout",
     "output_type": "stream",
     "text": [
      "0 1 2 3 4 \n"
     ]
    }
   ],
   "source": [
    "for i in range(5): \n",
    "    print(i, end =\" \") \n",
    "print()"
   ]
  },
  {
   "cell_type": "code",
   "execution_count": 33,
   "id": "adcc797d-300b-47c1-9778-c26482d907fb",
   "metadata": {},
   "outputs": [
    {
     "name": "stdout",
     "output_type": "stream",
     "text": [
      "0 1 2 3 4 5 6 7 8 \n"
     ]
    }
   ],
   "source": [
    "for i in range(0, 9): \n",
    "    print(i, end =\" \") \n",
    "print()\n",
    " "
   ]
  },
  {
   "cell_type": "code",
   "execution_count": 35,
   "id": "38442dbb-7553-45f8-a549-136291533eeb",
   "metadata": {},
   "outputs": [
    {
     "name": "stdout",
     "output_type": "stream",
     "text": [
      "15 17 19 21 23 "
     ]
    }
   ],
   "source": [
    "# incremented by 3 \n",
    "for i in range(15, 25, 2): \n",
    "    print(i, end =\" \")"
   ]
  },
  {
   "cell_type": "code",
   "execution_count": 39,
   "id": "9ba5eb51-449e-427b-9ffa-dfad688e0683",
   "metadata": {},
   "outputs": [],
   "source": [
    "# Function that returns sum\n",
    "# of first 10 numbers\n",
    "def my_func():\n",
    "    a=0\n",
    "    for i in range (1, 5):\n",
    "        a = a + i\n",
    "    return a"
   ]
  },
  {
   "cell_type": "code",
   "execution_count": 41,
   "id": "a62a2464-ad08-4629-bfbf-7bae1dc0b4fa",
   "metadata": {},
   "outputs": [
    {
     "name": "stdout",
     "output_type": "stream",
     "text": [
      "10\n"
     ]
    }
   ],
   "source": [
    "res = my_func()\n",
    "print(res)"
   ]
  },
  {
   "cell_type": "code",
   "execution_count": 45,
   "id": "49e0581d-50e4-4b0c-aa7a-7c899f3258fe",
   "metadata": {},
   "outputs": [
    {
     "name": "stdout",
     "output_type": "stream",
     "text": [
      "343\n",
      "[0, 2, 4, 6, 8]\n"
     ]
    }
   ],
   "source": [
    "# Python code to demonstrate   \n",
    "# labmda function  \n",
    " \n",
    "# Cube using lambda\n",
    "cube = lambda x: x * x*x  \n",
    "print(cube(7))\n",
    " \n",
    "# List comprehension using lambda\n",
    "a = [(lambda x: x * 2)(x) for x in range(5)]\n",
    "print(a)"
   ]
  },
  {
   "cell_type": "code",
   "execution_count": 49,
   "id": "47cf62ca-f04c-41b0-a34f-6079e95fc8d1",
   "metadata": {},
   "outputs": [
    {
     "name": "stdout",
     "output_type": "stream",
     "text": [
      "[2, 4, 6]\n"
     ]
    }
   ],
   "source": [
    "del list\n",
    "\n",
    "nums = [1, 2, 3]\n",
    "doubled = list(map(lambda x: x * 2, nums))\n",
    "print(doubled)\n"
   ]
  },
  {
   "cell_type": "code",
   "execution_count": 51,
   "id": "1800cff9-c12c-42f4-95f4-d0903359b3de",
   "metadata": {},
   "outputs": [],
   "source": [
    "class Car:\n",
    "    def __init__(self, brand, model):\n",
    "        self.brand = brand\n",
    "        self.model = model\n",
    "\n",
    "    def start(self):\n",
    "        print(f\"{self.brand} {self.model} is starting...\")\n"
   ]
  },
  {
   "cell_type": "code",
   "execution_count": 53,
   "id": "9b8137cc-5ea6-4745-ae8d-6e1b59d16517",
   "metadata": {},
   "outputs": [
    {
     "name": "stdout",
     "output_type": "stream",
     "text": [
      "Toyota Camry is starting...\n",
      "Tesla Model 3 is starting...\n"
     ]
    }
   ],
   "source": [
    "car1 = Car(\"Toyota\", \"Camry\")    # Object\n",
    "car2 = Car(\"Tesla\", \"Model 3\")   # Another object\n",
    "\n",
    "car1.start()\n",
    "car2.start()\n"
   ]
  },
  {
   "cell_type": "code",
   "execution_count": 55,
   "id": "cfbb8d23-211e-4c05-9c1a-e27a2d060426",
   "metadata": {},
   "outputs": [
    {
     "name": "stdout",
     "output_type": "stream",
     "text": [
      "Animal makes sound\n",
      "Dog barks\n"
     ]
    }
   ],
   "source": [
    "#single inheritance \n",
    "class Animal:\n",
    "    def sound(self):\n",
    "        print(\"Animal makes sound\")\n",
    "\n",
    "class Dog(Animal):\n",
    "    def bark(self):\n",
    "        print(\"Dog barks\")\n",
    "\n",
    "d = Dog()\n",
    "d.sound()\n",
    "d.bark()\n"
   ]
  },
  {
   "cell_type": "code",
   "execution_count": 57,
   "id": "281ee11a-df15-4b52-83a4-96f20e3d585b",
   "metadata": {},
   "outputs": [
    {
     "name": "stdout",
     "output_type": "stream",
     "text": [
      "Knows driving\n",
      "Loves cooking\n"
     ]
    }
   ],
   "source": [
    "#multiple inheritance\n",
    "class Father:\n",
    "    def skills(self):\n",
    "        print(\"Knows driving\")\n",
    "\n",
    "class Mother:\n",
    "    def hobbies(self):\n",
    "        print(\"Loves cooking\")\n",
    "\n",
    "class Child(Father, Mother):\n",
    "    pass\n",
    "\n",
    "c = Child()\n",
    "c.skills()\n",
    "c.hobbies()\n"
   ]
  },
  {
   "cell_type": "code",
   "execution_count": 59,
   "id": "23de5e01-8a4a-4b25-8cc1-0e81a9db76ce",
   "metadata": {},
   "outputs": [
    {
     "name": "stdout",
     "output_type": "stream",
     "text": [
      "This is Grandfather\n",
      "Father is a doctor\n",
      "Son likes football\n"
     ]
    }
   ],
   "source": [
    "#multilevel Inheritance\n",
    "class Grandfather:\n",
    "    def family(self):\n",
    "        print(\"This is Grandfather\")\n",
    "\n",
    "class Father(Grandfather):\n",
    "    def profession(self):\n",
    "        print(\"Father is a doctor\")\n",
    "\n",
    "class Son(Father):\n",
    "    def hobby(self):\n",
    "        print(\"Son likes football\")\n",
    "\n",
    "s = Son()\n",
    "s.family()\n",
    "s.profession()\n",
    "s.hobby()\n"
   ]
  },
  {
   "cell_type": "code",
   "execution_count": 61,
   "id": "29692130-a2c4-4a0a-8227-d4bfc0ffa1b5",
   "metadata": {},
   "outputs": [
    {
     "name": "stdout",
     "output_type": "stream",
     "text": [
      "Parent class\n",
      "Parent class\n"
     ]
    }
   ],
   "source": [
    "#hierarical Inheritance\n",
    "class Parent:\n",
    "    def show(self):\n",
    "        print(\"Parent class\")\n",
    "\n",
    "class Child1(Parent):\n",
    "    def child1(self):\n",
    "        print(\"I am Child1\")\n",
    "\n",
    "class Child2(Parent):\n",
    "    def child2(self):\n",
    "        print(\"I am Child2\")\n",
    "\n",
    "c1 = Child1()\n",
    "c2 = Child2()\n",
    "c1.show()\n",
    "c2.show()\n"
   ]
  },
  {
   "cell_type": "code",
   "execution_count": 63,
   "id": "8fb6bdd2-848d-45ad-883b-ce4f79f06e6e",
   "metadata": {},
   "outputs": [
    {
     "name": "stdout",
     "output_type": "stream",
     "text": [
      "Bright School\n",
      "Smart School\n"
     ]
    }
   ],
   "source": [
    "#@classmethod\n",
    "class Student:\n",
    "    school_name = \"Bright School\"\n",
    "\n",
    "    def __init__(self, name):\n",
    "        self.name = name\n",
    "\n",
    "    @classmethod\n",
    "    def change_school(cls, new_name):\n",
    "        cls.school_name = new_name\n",
    "\n",
    "print(Student.school_name)  # Bright School\n",
    "Student.change_school(\"Smart School\")\n",
    "print(Student.school_name)  # Smart School\n"
   ]
  },
  {
   "cell_type": "code",
   "execution_count": 65,
   "id": "f78ba5d0-4d4e-42f3-bc84-8cef8b31a700",
   "metadata": {},
   "outputs": [
    {
     "name": "stdout",
     "output_type": "stream",
     "text": [
      "8\n"
     ]
    }
   ],
   "source": [
    "#@staticmethod\n",
    "class Math:\n",
    "    @staticmethod\n",
    "    def add(a, b):\n",
    "        return a + b\n",
    "\n",
    "print(Math.add(5, 3))  \n"
   ]
  },
  {
   "cell_type": "code",
   "execution_count": 69,
   "id": "a56daec4-0df3-4961-922a-45304fd31803",
   "metadata": {},
   "outputs": [
    {
     "name": "stdout",
     "output_type": "stream",
     "text": [
      "Bark\n",
      "Meow\n"
     ]
    }
   ],
   "source": [
    "#polymorphisam with classes\n",
    "#polymorphisam-Polymorphism allows you to use the same method name for different types of objects,\n",
    "#and each object can perform its own version of the behavior.\n",
    "class Dog:\n",
    "    def speak(self):\n",
    "        print(\"Bark\")\n",
    "\n",
    "class Cat:\n",
    "    def speak(self):\n",
    "        print(\"Meow\")\n",
    "\n",
    "def animal_sound(animal):\n",
    "    animal.speak()\n",
    "\n",
    "d = Dog()\n",
    "c = Cat()\n",
    "\n",
    "animal_sound(d)  # Bark\n",
    "animal_sound(c)  # Meow\n"
   ]
  },
  {
   "cell_type": "code",
   "execution_count": null,
   "id": "d179fa5c-c34e-48b4-9144-7f9230914c8d",
   "metadata": {},
   "outputs": [],
   "source": []
  }
 ],
 "metadata": {
  "kernelspec": {
   "display_name": "Python [conda env:base] *",
   "language": "python",
   "name": "conda-base-py"
  },
  "language_info": {
   "codemirror_mode": {
    "name": "ipython",
    "version": 3
   },
   "file_extension": ".py",
   "mimetype": "text/x-python",
   "name": "python",
   "nbconvert_exporter": "python",
   "pygments_lexer": "ipython3",
   "version": "3.12.7"
  }
 },
 "nbformat": 4,
 "nbformat_minor": 5
}
