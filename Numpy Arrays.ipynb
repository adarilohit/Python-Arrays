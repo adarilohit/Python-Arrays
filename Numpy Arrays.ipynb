{
 "cells": [
  {
   "cell_type": "code",
   "execution_count": 4,
   "id": "276961df-b42e-40ee-a4b3-45f168df69dd",
   "metadata": {},
   "outputs": [],
   "source": [
    "import numpy as np\n",
    "arr1 = np.array([7,8,9,10])\n",
    "arr2 = np.array([1,2,3,4])\n"
   ]
  },
  {
   "cell_type": "code",
   "execution_count": 5,
   "id": "1726ac57-a4a3-4206-a0a7-9b7de450055f",
   "metadata": {},
   "outputs": [
    {
     "name": "stdout",
     "output_type": "stream",
     "text": [
      "[ 8 10 12 14]\n"
     ]
    }
   ],
   "source": [
    "arr3 = arr1 + arr2\n",
    "print(arr3)"
   ]
  },
  {
   "cell_type": "code",
   "execution_count": 6,
   "id": "bbba8215-77bd-48e2-b9d5-3b672fd3176f",
   "metadata": {},
   "outputs": [
    {
     "name": "stdout",
     "output_type": "stream",
     "text": [
      "[ 56  80 108 140]\n"
     ]
    }
   ],
   "source": [
    "arr3 = arr3 * arr1\n",
    "print(arr3)\n"
   ]
  },
  {
   "cell_type": "code",
   "execution_count": 7,
   "id": "4b11a639-ca96-41a0-afe3-7c23c8b8ad2e",
   "metadata": {},
   "outputs": [
    {
     "name": "stdout",
     "output_type": "stream",
     "text": [
      "108\n"
     ]
    }
   ],
   "source": [
    "print(arr3[2])"
   ]
  },
  {
   "cell_type": "code",
   "execution_count": 8,
   "id": "0f981730-e6f9-4995-b107-359e0b31df4e",
   "metadata": {},
   "outputs": [
    {
     "name": "stdout",
     "output_type": "stream",
     "text": [
      "8\n"
     ]
    }
   ],
   "source": [
    "import numpy as np\n",
    "arr = np.array([[4,2,0,5],[1,3,5,7]])\n",
    "print(arr.size)"
   ]
  },
  {
   "cell_type": "code",
   "execution_count": 9,
   "id": "a8187ad1-167f-4d3a-951a-291564125d0a",
   "metadata": {},
   "outputs": [
    {
     "data": {
      "image/png": "[encoded data removed]",
      "text/plain": [
       "<Figure size 640x480 with 1 Axes>"
      ]
     },
     "metadata": {},
     "output_type": "display_data"
    }
   ],
   "source": [
    "import time\n",
    "import sys\n",
    "import numpy as np\n",
    "import matplotlib.pyplot as plt\n",
    "\n",
    "# Dataset size\n",
    "N = 10_000_000\n",
    "\n",
    "# ---- Python List ----\n",
    "start = time.time()\n",
    "py_list = list(range(N))\n",
    "py_result = [x * 2 for x in py_list]\n",
    "py_time = time.time() - start\n",
    "\n",
    "# Approximate memory: list container + elements (estimated using sample)\n",
    "sample_size = 1000\n",
    "list_memory_est = sys.getsizeof(py_list) + sum(sys.getsizeof(x) for x in py_list[:sample_size]) * (N // sample_size)\n",
    "\n",
    "# ---- NumPy Array ----\n",
    "start = time.time()\n",
    "np_array = np.arange(N)\n",
    "np_result = np_array * 2\n",
    "np_time = time.time() - start\n",
    "np_memory = np_array.nbytes\n",
    "\n",
    "# Convert memory to MB\n",
    "py_memory_mb = list_memory_est / (1024 ** 2)\n",
    "np_memory_mb = np_memory / (1024 ** 2)\n",
    "\n",
    "# Prepare data for plotting\n",
    "labels = ['Execution Time (s)', 'Memory Usage (MB)']\n",
    "py_data = [py_time, py_memory_mb]\n",
    "np_data = [np_time, np_memory_mb]\n",
    "\n",
    "# Plotting\n",
    "x = np.arange(len(labels))\n",
    "width = 0.35\n",
    "\n",
    "fig, ax = plt.subplots()\n",
    "ax.bar(x - width/2, py_data, width, label='Python List')\n",
    "ax.bar(x + width/2, np_data, width, label='NumPy Array')\n",
    "\n",
    "ax.set_ylabel('Performance Metrics')\n",
    "ax.set_title('Python List vs NumPy Array')\n",
    "ax.set_xticks(x)\n",
    "ax.set_xticklabels(labels)\n",
    "ax.legend()\n",
    "ax.grid(True)\n",
    "\n",
    "plt.tight_layout()\n",
    "plt.show()\n"
   ]
  },
  {
   "cell_type": "code",
   "execution_count": 10,
   "id": "f2489a4d-7cb3-4f62-9503-346e621d3684",
   "metadata": {},
   "outputs": [
    {
     "name": "stdout",
     "output_type": "stream",
     "text": [
      "[0.0000000e+00 5.0000001e-04 9.9999904e-04 ... 1.0000960e+01 1.0000480e+01\n",
      " 1.0000000e+01]\n"
     ]
    }
   ],
   "source": [
    "# Scitific simulation(Projectile motion)\n",
    "#Task: sumulate the height of a ball thrown with an initial velocity over 1 million time steps.\n",
    "import numpy as np\n",
    "\n",
    "t = np.linspace(0, 10, 1_000_000)\n",
    "v0 = 50  # m/s\n",
    "g = 9.8  # m/s^2\n",
    "height = v0 * t - 0.5 * g * t**2\n",
    "print(height)"
   ]
  },
  {
   "cell_type": "code",
   "execution_count": 11,
   "id": "829e756d-688f-4c8e-81f2-97553967a4a6",
   "metadata": {},
   "outputs": [
    {
     "name": "stderr",
     "output_type": "stream",
     "text": [
      "IOPub data rate exceeded.\n",
      "The Jupyter server will temporarily stop sending output\n",
      "to the client in order to avoid crashing it.\n",
      "To change this limit, set the config variable\n",
      "`--ServerApp.iopub_data_rate_limit`.\n",
      "\n",
      "Current values:\n",
      "ServerApp.iopub_data_rate_limit=1000000.0 (bytes/sec)\n",
      "ServerApp.rate_limit_window=3.0 (secs)\n",
      "\n"
     ]
    }
   ],
   "source": [
    "t = [i * 10 / 1_000_000 for i in range(1_000_000)]\n",
    "v0 = 50\n",
    "g = 9.8\n",
    "height1 = [v0 * ti - 0.5 * g * ti**2 for ti in t]\n",
    "print(height1)"
   ]
  },
  {
   "cell_type": "code",
   "execution_count": 12,
   "id": "10d5d7ef-61cc-4a34-afe5-8ca61413d81e",
   "metadata": {},
   "outputs": [
    {
     "name": "stdout",
     "output_type": "stream",
     "text": [
      "[54.99311092 66.17779233 51.78435106 ... 64.28682527 77.94665081\n",
      " 77.80433388]\n"
     ]
    }
   ],
   "source": [
    "#Task:\n",
    "#Calculate moving average of daily stock prices for the past 5 years (~1250 trading days)\n",
    "prices = np.random.rand(1250) * 100\n",
    "moving_avg = np.convolve(prices, np.ones(5)/5, mode='valid')\n",
    "print(moving_avg)"
   ]
  },
  {
   "cell_type": "code",
   "execution_count": 13,
   "id": "c3d6c8c6-a326-4290-9edb-14d7cd687e19",
   "metadata": {},
   "outputs": [
    {
     "data": {
      "text/plain": [
       "(0.000537872314453125,\n",
       " 0.0764617919921875,\n",
       " [49.17933251753014,\n",
       "  32.83007810954765,\n",
       "  46.423930063701945,\n",
       "  34.99080395704304,\n",
       "  46.6140805344736,\n",
       "  38.0705449527732,\n",
       "  55.48776159289298,\n",
       "  41.90327291032781,\n",
       "  49.15430759419119,\n",
       "  47.03988898306721])"
      ]
     },
     "execution_count": 13,
     "metadata": {},
     "output_type": "execute_result"
    }
   ],
   "source": [
    "# Re-running due to code execution state reset\n",
    "import random\n",
    "import time\n",
    "import sys\n",
    "\n",
    "# Start time\n",
    "start_time = time.time()\n",
    "\n",
    "# Generate 1250 random stock prices between 0 and 100\n",
    "prices = [random.random() * 100 for _ in range(1250)]\n",
    "\n",
    "# Calculate 5-day moving average using list comprehension\n",
    "moving_avg = [sum(prices[i:i+5])/5 for i in range(len(prices) - 4)]\n",
    "\n",
    "# End time\n",
    "end_time = time.time()\n",
    "\n",
    "# Measure time taken\n",
    "execution_time = end_time - start_time\n",
    "\n",
    "# Estimate memory used\n",
    "# Size of prices list + size of moving_avg list\n",
    "sample_size = 100\n",
    "prices_memory = sys.getsizeof(prices) + sum(sys.getsizeof(x) for x in prices[:sample_size]) * (len(prices) // sample_size)\n",
    "moving_avg_memory = sys.getsizeof(moving_avg) + sum(sys.getsizeof(x) for x in moving_avg[:sample_size]) * (len(moving_avg) // sample_size)\n",
    "\n",
    "total_memory = (prices_memory + moving_avg_memory) / (1024 ** 2)  # Convert to MB\n",
    "\n",
    "execution_time, total_memory, moving_avg[:10]\n"
   ]
  },
  {
   "cell_type": "code",
   "execution_count": 14,
   "id": "3149cb04-64fd-4781-8b27-801ac9de746d",
   "metadata": {},
   "outputs": [
    {
     "data": {
      "text/plain": [
       "(0.07321834564208984, 2.25, 6.0, (768, 1024))"
      ]
     },
     "execution_count": 14,
     "metadata": {},
     "output_type": "execute_result"
    }
   ],
   "source": [
    "import numpy as np\n",
    "from PIL import Image\n",
    "import time\n",
    "import os\n",
    "\n",
    "# Generate a dummy sample image (if not already available)\n",
    "from PIL import ImageDraw\n",
    "\n",
    "img = Image.new(\"RGB\", (1024, 768), color=\"white\")\n",
    "draw = ImageDraw.Draw(img)\n",
    "for i in range(0, 1024, 50):\n",
    "    draw.line((i, 0, i, 768), fill=\"gray\", width=1)\n",
    "for j in range(0, 768, 50):\n",
    "    draw.line((0, j, 1024, j), fill=\"gray\", width=1)\n",
    "img.save(\"sample.jpg\")\n",
    "\n",
    "# Load image and convert to numpy array\n",
    "start_time = time.time()\n",
    "img = np.array(Image.open(\"sample.jpg\"))\n",
    "\n",
    "# Convert to grayscale using matrix operation\n",
    "gray = np.dot(img[...,:3], [0.2989, 0.5870, 0.1140])\n",
    "end_time = time.time()\n",
    "\n",
    "# Speed in seconds\n",
    "execution_time = end_time - start_time\n",
    "\n",
    "# Memory usage of image and grayscale array\n",
    "img_memory = img.nbytes / (1024 ** 2)  # in MB\n",
    "gray_memory = gray.nbytes / (1024 ** 2)  # in MB\n",
    "\n",
    "execution_time, img_memory, gray_memory, gray.shape\n"
   ]
  },
  {
   "cell_type": "code",
   "execution_count": 15,
   "id": "638789d2-a7a9-499d-8231-d63c9c956409",
   "metadata": {},
   "outputs": [
    {
     "data": {
      "image/png": "[encoded data removed]",
      "text/plain": [
       "<Figure size 640x480 with 1 Axes>"
      ]
     },
     "metadata": {},
     "output_type": "display_data"
    }
   ],
   "source": [
    "from PIL import Image\n",
    "import matplotlib.pyplot as plt\n",
    "\n",
    "# Convert grayscale array to uint8 for display\n",
    "gray_uint8 = gray.astype(np.uint8)\n",
    "\n",
    "# Display the grayscale image\n",
    "plt.imshow(gray_uint8, cmap='gray')\n",
    "plt.title(\"Grayscale Image\")\n",
    "plt.axis('off')\n",
    "plt.show()\n"
   ]
  },
  {
   "cell_type": "code",
   "execution_count": 16,
   "id": "42be7aa0-4f0e-4633-81f4-0a0bdb3d0d77",
   "metadata": {},
   "outputs": [
    {
     "data": {
      "image/png": "[encoded data removed]",
      "text/plain": [
       "<Figure size 640x480 with 1 Axes>"
      ]
     },
     "metadata": {},
     "output_type": "display_data"
    }
   ],
   "source": [
    "from PIL import Image, ImageDraw\n",
    "\n",
    "# Create a new RGB image with color gradient\n",
    "width, height = 1024, 768\n",
    "img_gradient = Image.new(\"RGB\", (width, height))\n",
    "draw = ImageDraw.Draw(img_gradient)\n",
    "\n",
    "for x in range(width):\n",
    "    for y in range(height):\n",
    "        r = int(255 * (x / width))\n",
    "        g = int(255 * (y / height))\n",
    "        b = 128\n",
    "        draw.point((x, y), fill=(r, g, b))\n",
    "\n",
    "# Convert to NumPy array and grayscale\n",
    "img_array = np.array(img_gradient)\n",
    "gray_image = np.dot(img_array[...,:3], [0.2989, 0.5870, 0.1140]).astype(np.uint8)\n",
    "\n",
    "# Display\n",
    "plt.imshow(gray_image, cmap='gray')\n",
    "plt.title(\"Generated Grayscale Gradient Image\")\n",
    "plt.axis('off')\n",
    "plt.show()\n"
   ]
  },
  {
   "cell_type": "code",
   "execution_count": 17,
   "id": "3f57ff83-6f0e-4514-8d38-f4cdb5dced1f",
   "metadata": {},
   "outputs": [
    {
     "data": {
      "image/png": "[encoded data removed]",
      "text/plain": [
       "<Figure size 640x480 with 1 Axes>"
      ]
     },
     "metadata": {},
     "output_type": "display_data"
    }
   ],
   "source": [
    "from PIL import Image, ImageDraw\n",
    "\n",
    "# Create blank canvas\n",
    "width, height = 400, 200\n",
    "car_img = Image.new(\"RGB\", (width, height), \"white\")\n",
    "draw = ImageDraw.Draw(car_img)\n",
    "\n",
    "# Draw car body\n",
    "draw.rectangle([50, 100, 350, 150], fill=\"blue\", outline=\"black\")\n",
    "\n",
    "# Draw car top\n",
    "draw.polygon([(120, 100), (160, 60), (240, 60), (280, 100)], fill=\"blue\", outline=\"black\")\n",
    "\n",
    "# Draw wheels\n",
    "draw.ellipse([80, 140, 120, 180], fill=\"black\")\n",
    "draw.ellipse([280, 140, 320, 180], fill=\"black\")\n",
    "\n",
    "# Convert to numpy array for viewing\n",
    "car_array = np.array(car_img)\n",
    "\n",
    "# Display\n",
    "plt.imshow(car_array)\n",
    "plt.title(\"Simple Car Drawing\")\n",
    "plt.axis(\"off\")\n",
    "plt.show()\n"
   ]
  },
  {
   "cell_type": "code",
   "execution_count": 21,
   "id": "339f27a0-2a4b-4848-9d52-4d7d0c958bc0",
   "metadata": {},
   "outputs": [
    {
     "name": "stdout",
     "output_type": "stream",
     "text": [
      "Requirement already satisfied: pillow in c:\\users\\adari\\anaconda3\\lib\\site-packages (10.4.0)\n"
     ]
    },
    {
     "data": {
      "image/png": "[encoded data removed]",
      "text/plain": [
       "<Figure size 640x480 with 1 Axes>"
      ]
     },
     "metadata": {},
     "output_type": "display_data"
    }
   ],
   "source": [
    "!pip install pillow\n",
    "from PIL import Image, ImageDraw\n",
    "\n",
    "# Create canvas\n",
    "width, height = 500, 300\n",
    "car_img = Image.new(\"RGB\", (width, height), \"white\")\n",
    "draw = ImageDraw.Draw(car_img)\n",
    "\n",
    "# Draw car body\n",
    "draw.polygon([(80, 200), (100, 140), (180, 110), (320, 110), (360, 140), (400, 140), (420, 200)], fill=\"silver\", outline=\"black\")\n",
    "\n",
    "# Draw windows\n",
    "draw.polygon([(110, 140), (170, 120), (240, 120), (240, 140)], fill=\"black\")\n",
    "draw.polygon([(245, 120), (320, 120), (350, 140), (245, 140)], fill=\"black\")\n",
    "\n",
    "# Draw wheels\n",
    "draw.ellipse([(120, 190), (170, 240)], fill=\"black\")\n",
    "draw.ellipse([(310, 190), (360, 240)], fill=\"black\")\n",
    "\n",
    "# Draw headlights\n",
    "draw.polygon([(420, 200), (430, 190), (430, 210)], fill=\"orange\")\n",
    "\n",
    "# Draw rear light\n",
    "draw.rectangle([(75, 190), (85, 210)], fill=\"red\")\n",
    "\n",
    "# Save or show the image\n",
    "car_img.show()\n",
    "# car_img.save(\"stylized_car.png\")\n",
    "car_arr = np.array(car_img)\n",
    "\n",
    "plt.imshow(car_arr)\n",
    "plt.title(\"Sedan car\")\n",
    "plt.axis(\"off\")\n",
    "plt.show()"
   ]
  },
  {
   "cell_type": "code",
   "execution_count": 1,
   "id": "f4430901-231e-4d64-b3e6-01cf03156f95",
   "metadata": {},
   "outputs": [
    {
     "name": "stdout",
     "output_type": "stream",
     "text": [
      "After vstack: \n",
      " [[1 2 3]\n",
      " [4 5 6]]\n",
      "After hstack: \n",
      " [1 2 3 4 5 6]\n"
     ]
    }
   ],
   "source": [
    "#difference betweeen vstack() and Hstack()\n",
    "\n",
    "import numpy as np\n",
    "a = np.array([1,2,3])\n",
    "b = np.array([4,5,6])\n",
    "\n",
    "# vstack arrays\n",
    "c = np.vstack((a,b))\n",
    "print(\"After vstack: \\n\",c)\n",
    "# hstack arrays\n",
    "d = np.hstack((a,b))\n",
    "print(\"After hstack: \\n\",d)"
   ]
  },
  {
   "cell_type": "code",
   "execution_count": 3,
   "id": "2dbc372f-e51a-4363-a8db-53145b1bea8a",
   "metadata": {},
   "outputs": [],
   "source": [
    "# Non-vectorized\n",
    "c = []\n",
    "for i in range(len(a)):\n",
    "    c.append(a[i] + b[i])\n"
   ]
  },
  {
   "cell_type": "code",
   "execution_count": 5,
   "id": "3644cc56-fe24-4473-b8c7-22fe21efa824",
   "metadata": {},
   "outputs": [
    {
     "name": "stdout",
     "output_type": "stream",
     "text": [
      "[5, 7, 9]\n"
     ]
    }
   ],
   "source": [
    "print(c)"
   ]
  },
  {
   "cell_type": "code",
   "execution_count": 7,
   "id": "9dd6cc8b-72d7-4c58-8aa5-cbfad9b3cd57",
   "metadata": {},
   "outputs": [
    {
     "name": "stdout",
     "output_type": "stream",
     "text": [
      "[5 7 9]\n"
     ]
    }
   ],
   "source": [
    "#vectorized\n",
    "a = np.array([1,2,3])\n",
    "b = np.array([4,5,6])\n",
    "c = a + b\n",
    "print(c)"
   ]
  },
  {
   "cell_type": "code",
   "execution_count": 9,
   "id": "ba2d5bd5-4465-4816-9a84-cc67345d8fd6",
   "metadata": {},
   "outputs": [
    {
     "name": "stdout",
     "output_type": "stream",
     "text": [
      "Original data:\n",
      " [[10 20 30]\n",
      " [40 50 60]\n",
      " [70 80 90]]\n",
      "\n",
      "Row-wise means:\n",
      " [[20.]\n",
      " [50.]\n",
      " [80.]]\n",
      "\n",
      "Result after subtracting row mean:\n",
      " [[-10.   0.  10.]\n",
      " [-10.   0.  10.]\n",
      " [-10.   0.  10.]]\n"
     ]
    }
   ],
   "source": [
    "#example that demonstrates both vectorization and broadcasting working together in NumPy:\n",
    "import numpy as np\n",
    "\n",
    "# Original 2D array\n",
    "data = np.array([\n",
    "    [10, 20, 30],\n",
    "    [40, 50, 60],\n",
    "    [70, 80, 90]\n",
    "])\n",
    "\n",
    "# Step 1: Compute row-wise mean (vectorized)\n",
    "row_means = np.mean(data, axis=1, keepdims=True)  # Shape (3, 1)\n",
    "\n",
    "# Step 2: Subtract row means from each row (broadcasting + vectorized)\n",
    "result = data - row_means\n",
    "\n",
    "print(\"Original data:\\n\", data)\n",
    "print(\"\\nRow-wise means:\\n\", row_means)\n",
    "print(\"\\nResult after subtracting row mean:\\n\", result)\n"
   ]
  },
  {
   "cell_type": "code",
   "execution_count": 19,
   "id": "1db5f64d-5645-42dc-930c-38f135b37aad",
   "metadata": {},
   "outputs": [
    {
     "name": "stdout",
     "output_type": "stream",
     "text": [
      "Transformed array:\n",
      "[[0 0 0 0 0]\n",
      " [0 1 1 1 0]\n",
      " [0 1 1 1 0]\n",
      " [0 1 1 1 0]\n",
      " [0 0 0 0 0]]\n"
     ]
    }
   ],
   "source": [
    "# Write a program to add a border of zeros around the existing array.\n",
    "import numpy as np\n",
    "ones_arr = np.full((3,3),1)\n",
    "\n",
    "print(\"Transformed array:\")\n",
    "transformed_array = np.pad(ones_arr, pad_width=1, mode='constant', constant_values=0)\n",
    "print(transformed_array)"
   ]
  },
  {
   "cell_type": "code",
   "execution_count": 23,
   "id": "60c93f29-b1f9-402d-8052-c5ed177130b7",
   "metadata": {},
   "outputs": [
    {
     "name": "stdout",
     "output_type": "stream",
     "text": [
      "Upper Conversion:  ['I' 'LOVE' 'NUMPY' 'AND' 'INTERVIEWBIT']\n",
      "Lower Conversion:  ['i' 'love' 'numpy' 'and' 'interviewbit']\n",
      "Capitalize First Letter Conversion:  ['I' 'Love' 'Numpy' 'And' 'Interviewbit']\n",
      "Titlecase Conversion:  ['I' 'Love' 'Numpy' 'And' 'Interviewbit']\n",
      "Swapcase Conversion:  ['I' 'LOVE' 'nUMpY' 'and' 'INTERVIEWBIT']\n"
     ]
    }
   ],
   "source": [
    "#convert a string element to uppercase, lowercase, capitalise the first letter, title-case and swapcase of a given NumPy array\n",
    "\n",
    "\n",
    "# Create Sample NumPy array\n",
    "arr = np.array(['i', 'love', 'NumPy', 'AND', 'interviewbit'], dtype=str)\n",
    "\n",
    "upper_case_arr = np.char.upper(arr)\n",
    "lower_case_arr = np.char.lower(arr)\n",
    "capitalize_case_arr = np.char.capitalize(arr)\n",
    "titlecase_arr = np.char.title(arr)\n",
    "swapcase_arr = np.char.swapcase(arr)\n",
    "\n",
    "print(\"Upper Conversion: \", upper_case_arr)\n",
    "print(\"Lower Conversion: \", lower_case_arr)\n",
    "print(\"Capitalize First Letter Conversion: \", capitalize_case_arr)\n",
    "print(\"Titlecase Conversion: \", titlecase_arr)\n",
    "print(\"Swapcase Conversion: \", swapcase_arr)"
   ]
  },
  {
   "cell_type": "code",
   "execution_count": 25,
   "id": "90b1a51c-e136-41fc-b7c8-42d6b1b102ec",
   "metadata": {},
   "outputs": [
    {
     "name": "stdout",
     "output_type": "stream",
     "text": [
      "8\n"
     ]
    }
   ],
   "source": [
    "arr = np.array([[4,2,0,5],[1,3,5,7]])\n",
    "print(arr.size)"
   ]
  },
  {
   "cell_type": "code",
   "execution_count": null,
   "id": "959e5d57-a5ba-4355-a412-ba5732f08d02",
   "metadata": {},
   "outputs": [],
   "source": []
  }
 ],
 "metadata": {
  "kernelspec": {
   "display_name": "Python [conda env:base] *",
   "language": "python",
   "name": "conda-base-py"
  },
  "language_info": {
   "codemirror_mode": {
    "name": "ipython",
    "version": 3
   },
   "file_extension": ".py",
   "mimetype": "text/x-python",
   "name": "python",
   "nbconvert_exporter": "python",
   "pygments_lexer": "ipython3",
   "version": "3.12.7"
  }
 },
 "nbformat": 4,
 "nbformat_minor": 5
}
